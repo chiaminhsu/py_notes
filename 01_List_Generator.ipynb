{
 "cells": [
  {
   "cell_type": "markdown",
   "id": "44087023",
   "metadata": {},
   "source": [
    "# Python notes \n",
    "偶有機會溫故知新\n",
    "\n",
    "## 1. list, generator, iterator\n",
    "\n",
    "### Reference\n",
    "- [廖雪峰的官方網站/Python教程/高級特性/生成器](https://www.liaoxuefeng.com/wiki/1016959663602400/1017318207388128)\n",
    "- [廖雪峰的官方網站/Python教程/高級特性/迭代器](https://www.liaoxuefeng.com/wiki/1016959663602400/1017323698112640)\n",
    "- [Python tutorial - 3.1.3 Lists](https://docs.python.org/3/tutorial/introduction.html#lists)\n",
    "\n",
    "### 命題: 以 list 產生整數列 0~9, 也用 generator 和 iterator 產生該數列"
   ]
  },
  {
   "cell_type": "markdown",
   "id": "037acb37",
   "metadata": {},
   "source": [
    "### list"
   ]
  },
  {
   "cell_type": "code",
   "execution_count": 1,
   "id": "f4aa0bae",
   "metadata": {},
   "outputs": [
    {
     "name": "stdout",
     "output_type": "stream",
     "text": [
      "[0, 1, 2, 3, 4, 5, 6, 7, 8, 9]\n"
     ]
    }
   ],
   "source": [
    "L1 = [i for i in range(10)]\n",
    "print(L1)"
   ]
  },
  {
   "cell_type": "markdown",
   "id": "3ae266f9",
   "metadata": {},
   "source": [
    "但上述 L1 內部使用著名的 immutable iterable object `range` 完成, 盡可能自己產生數列呢?"
   ]
  },
  {
   "cell_type": "code",
   "execution_count": 2,
   "id": "a8a09849",
   "metadata": {},
   "outputs": [
    {
     "name": "stdout",
     "output_type": "stream",
     "text": [
      "[0, 1, 2, 3, 4, 5, 6, 7, 8, 9]\n"
     ]
    }
   ],
   "source": [
    "L2 = []\n",
    "i = 0\n",
    "while i < 10:\n",
    "    L2.append(i)\n",
    "    i+=1\n",
    "print(L2)"
   ]
  },
  {
   "cell_type": "markdown",
   "id": "36188268",
   "metadata": {},
   "source": [
    "將上述產生 list 的碼整理成函式 gen_list, 可 print(gen_list(10)) 印出 \\[0, 1, 2, 3, 4, 5, 6, 7, 8, 9\\]"
   ]
  },
  {
   "cell_type": "code",
   "execution_count": 3,
   "id": "e0c2f778",
   "metadata": {},
   "outputs": [
    {
     "name": "stdout",
     "output_type": "stream",
     "text": [
      "[0, 1, 2, 3, 4, 5, 6, 7, 8, 9]\n"
     ]
    }
   ],
   "source": [
    "def gen_list(max_v):\n",
    "    l = []\n",
    "    i = 0\n",
    "    while i < max_v:\n",
    "        l.append(i)\n",
    "        i+= 1\n",
    "    return l\n",
    "\n",
    "print(gen_list(10))"
   ]
  },
  {
   "cell_type": "markdown",
   "id": "87f8acd9",
   "metadata": {},
   "source": [
    "- 不管我們是否用函式生成 list, 一旦 list 存在, 內存也存在, 比如 L1, L2 和 gen_list(10) 都有內存存放 10 個 integer.\n",
    "- 能呼叫再給值嗎? 避免全部先生成 => 浪費空間\n",
    "- Geneator 和 Iterator 都是類似概念, 呼叫(對岸稱為 '調用')時才給值\n",
    "- [future](https://stackoverflow.com/questions/279561/what-is-the-python-equivalent-of-static-variables-inside-a-function)"
   ]
  },
  {
   "cell_type": "code",
   "execution_count": 4,
   "id": "99654fdf",
   "metadata": {},
   "outputs": [
    {
     "name": "stdout",
     "output_type": "stream",
     "text": [
      "0 1 2 "
     ]
    }
   ],
   "source": [
    "'''試寫類生成器'''\n",
    "count = -1\n",
    "def genv():\n",
    "    global count\n",
    "    count += 1\n",
    "    return count\n",
    "\n",
    "for i in range(3):\n",
    "    print(genv(), end=' ')"
   ]
  },
  {
   "cell_type": "markdown",
   "id": "229bb2d5",
   "metadata": {},
   "source": [
    "可看出幾個麻煩\n",
    "1. 生成變數要初始化. 但如果不想在呼叫(調用)時給參數, 那 count 將成為全域變數. 過多全域變數會干擾變數管理\n",
    "2. 外部控制生成"
   ]
  },
  {
   "cell_type": "code",
   "execution_count": 5,
   "id": "583e62bc",
   "metadata": {},
   "outputs": [
    {
     "name": "stdout",
     "output_type": "stream",
     "text": [
      "0 1 2 3 4 5 6 7 8 9 "
     ]
    }
   ],
   "source": [
    "count, max = -1, 10\n",
    "def gen_v():\n",
    "    global count, max\n",
    "    count += 1\n",
    "    if count < max:\n",
    "        return count\n",
    "    else:\n",
    "        raise\n",
    "\n",
    "while True:\n",
    "    try:\n",
    "        print(gen_v(), end=' ')\n",
    "    except:\n",
    "        break"
   ]
  },
  {
   "cell_type": "markdown",
   "id": "aa302838",
   "metadata": {},
   "source": [
    "如果我們單純地希望 - 外部每調用一次生成器就給值, 滿足某停止條件不再給值\n",
    "1. Python 提供 yield, 可返回值, 並將碼停住. 當下次呼叫, 則從 yield 下一步開始執行.\n",
    "2. 這可讓 function 內以 local variable 設定初值, 以 while 控制 loop 和條件 !"
   ]
  },
  {
   "cell_type": "code",
   "execution_count": 6,
   "id": "32630e80",
   "metadata": {},
   "outputs": [],
   "source": [
    "#### Generator"
   ]
  },
  {
   "cell_type": "raw",
   "id": "bb194b83",
   "metadata": {},
   "source": [
    "G1 = (x for x in range(10))\n",
    "for g in G1:\n",
    "    print(g, end=' ')"
   ]
  },
  {
   "cell_type": "markdown",
   "id": "bad6a05a",
   "metadata": {},
   "source": [
    "G1 也是用 range 生成. 自己寫個函式當作生成器呢? 比如下方的 gen()\n",
    "1. 內部先設定初值 i=0\n",
    "2. 也是用 while 作迴圈, 條件 i < max\n",
    "3. 不同於一般函式 return. 生成器內用 yield"
   ]
  },
  {
   "cell_type": "code",
   "execution_count": 7,
   "id": "43729640",
   "metadata": {},
   "outputs": [
    {
     "name": "stdout",
     "output_type": "stream",
     "text": [
      "0 1 2 3 4 5 6 7 8 9 "
     ]
    }
   ],
   "source": [
    "def GenV(max):\n",
    "    i = 0 # 以 local variable 設定初值\n",
    "    while i < max: # 條件值可由 function argument 提供\n",
    "        yield i # 返回 i; 並且下次呼叫(調用)GenV, 可由 yield 後面 code 執行\n",
    "        i+=1\n",
    "        \n",
    "G2 = GenV(10)\n",
    "for g in G2:\n",
    "    print(g, end=' ')"
   ]
  },
  {
   "cell_type": "code",
   "execution_count": 8,
   "id": "8d25e6df",
   "metadata": {},
   "outputs": [
    {
     "name": "stdout",
     "output_type": "stream",
     "text": [
      "0 1 2 3 4 5 6 7 8 9 \n",
      "\n"
     ]
    }
   ],
   "source": [
    "'''using next'''\n",
    "g3 = GenV(10)\n",
    "for i in range(10):\n",
    "    print(next(g3), end=' ')\n",
    "print('\\n')\n",
    "\n",
    "g4 = GenV(10)\n",
    "while True:\n",
    "    try:\n",
    "        x = next(g4)\n",
    "    except:\n",
    "        break"
   ]
  },
  {
   "cell_type": "code",
   "execution_count": null,
   "id": "95a3545c",
   "metadata": {},
   "outputs": [],
   "source": []
  }
 ],
 "metadata": {
  "kernelspec": {
   "display_name": "Python 3 (ipykernel)",
   "language": "python",
   "name": "python3"
  },
  "language_info": {
   "codemirror_mode": {
    "name": "ipython",
    "version": 3
   },
   "file_extension": ".py",
   "mimetype": "text/x-python",
   "name": "python",
   "nbconvert_exporter": "python",
   "pygments_lexer": "ipython3",
   "version": "3.9.12"
  }
 },
 "nbformat": 4,
 "nbformat_minor": 5
}
