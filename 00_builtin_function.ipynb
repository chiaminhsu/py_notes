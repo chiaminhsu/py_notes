{
 "cells": [
  {
   "cell_type": "markdown",
   "id": "8ebf352d",
   "metadata": {},
   "source": [
    "# Python notes \n",
    "\n",
    "## 0. Built-in Python functions and IPython magic commands\n",
    "不清楚 function 調用方法, class 的內參與功能, package 內容等等. 得上網查嗎? \n",
    "不用, 這些資訊自存碼內.  \n",
    "  \n",
    "Python 有 dir(), type() 等內建 function 可協助查詢.  \n",
    "Ipython 另有 magic commands - 如 `?`\n",
    "\n",
    "### reference\n",
    "- Python: [Built-in Functions](https://docs.python.org/3/library/functions.html?highlight=dir#dir)\n",
    "- IPython: [Built-in magic commands](https://ipython.readthedocs.io/en/stable/interactive/magics.html)"
   ]
  },
  {
   "cell_type": "markdown",
   "id": "e413073f",
   "metadata": {},
   "source": [
    "比如, range 是很方便的範圍工具. 想列出 [0,3) 內的整數,"
   ]
  },
  {
   "cell_type": "code",
   "execution_count": 1,
   "id": "e25ab0be",
   "metadata": {},
   "outputs": [
    {
     "name": "stdout",
     "output_type": "stream",
     "text": [
      "0 1 2 "
     ]
    }
   ],
   "source": [
    "for i in range(3): print(i, end=\" \")"
   ]
  },
  {
   "cell_type": "markdown",
   "id": "ec199f70",
   "metadata": {},
   "source": [
    "但想更深入地使用 range, 可用 IPython 的魔法詢問命令 \"?\" "
   ]
  },
  {
   "cell_type": "code",
   "execution_count": 2,
   "id": "f819484b",
   "metadata": {},
   "outputs": [],
   "source": [
    "?range"
   ]
  },
  {
   "cell_type": "markdown",
   "id": "b24faaf0",
   "metadata": {},
   "source": [
    "回顧上述內容  \n",
    "\n",
    "Init signature: range(self, /, *args, **kwargs)  \n",
    "Docstring:  \n",
    "range(stop) -> range object  \n",
    "range(start, stop[, step]) -> range object  \n",
    "\n",
    "Return an object that produces a sequence of integers from start (inclusive)  \n",
    "to stop (exclusive) by step.  range(i, j) produces i, i+1, i+2, ..., j-1.   \n",
    "start defaults to 0, and stop is omitted!  range(4) produces 0, 1, 2, 3.  \n",
    "  \n",
    "先試試不同的 (start, stop)"
   ]
  },
  {
   "cell_type": "code",
   "execution_count": 3,
   "id": "8cadf384",
   "metadata": {},
   "outputs": [
    {
     "name": "stdout",
     "output_type": "stream",
     "text": [
      "2 3 4 5 6 "
     ]
    }
   ],
   "source": [
    "for i in range(2,7): print(i, end=\" \")"
   ]
  },
  {
   "cell_type": "code",
   "execution_count": 4,
   "id": "f76363a0",
   "metadata": {},
   "outputs": [],
   "source": [
    "for i in range(7,2): print(i, end=\" \")"
   ]
  },
  {
   "cell_type": "markdown",
   "id": "e2f414b7",
   "metadata": {},
   "source": [
    "但試 (start=7, end=2) 卻無結果. 試以 c++ 語法模擬上述細節, 初值 7 就大於結束條件 2, 沒有機會執行就立刻結束\n",
    "```cpp\n",
    "int start=7, end=2\n",
    "for(int i=start; i<end; ++i)\n",
    "    cout << i << \" \";\n",
    "```\n",
    "再仔細看內容, step 可改變每次遞加數量  \n",
    "更強調遞增和遞減由 step 決定\n",
    " \n",
    "These are exactly the valid indices for a list of 4 elements.  \n",
    "When step is given, it specifies the increment (or decrement).  \n",
    "\n",
    "```cpp\n",
    "int start=7, end=2;\n",
    "int step=-1;\n",
    "for(int i=start; step>0 ? (i<end) : (i>end); i+=step)\n",
    "    cout << i << \" \";\n",
    "```"
   ]
  },
  {
   "cell_type": "code",
   "execution_count": 5,
   "id": "e9b97fe9",
   "metadata": {},
   "outputs": [
    {
     "name": "stdout",
     "output_type": "stream",
     "text": [
      "7 6 5 4 3 "
     ]
    }
   ],
   "source": [
    "for i in range(7,2,-1): print(i, end=\" \")"
   ]
  },
  {
   "cell_type": "markdown",
   "id": "97ab791b",
   "metadata": {},
   "source": [
    "如果想更理解 range 物件內容, 可用 python 內建功能 dir()"
   ]
  },
  {
   "cell_type": "code",
   "execution_count": 6,
   "id": "d50b266b",
   "metadata": {},
   "outputs": [
    {
     "data": {
      "text/plain": [
       "['__bool__',\n",
       " '__class__',\n",
       " '__contains__',\n",
       " '__delattr__',\n",
       " '__dir__',\n",
       " '__doc__',\n",
       " '__eq__',\n",
       " '__format__',\n",
       " '__ge__',\n",
       " '__getattribute__',\n",
       " '__getitem__',\n",
       " '__gt__',\n",
       " '__hash__',\n",
       " '__init__',\n",
       " '__init_subclass__',\n",
       " '__iter__',\n",
       " '__le__',\n",
       " '__len__',\n",
       " '__lt__',\n",
       " '__ne__',\n",
       " '__new__',\n",
       " '__reduce__',\n",
       " '__reduce_ex__',\n",
       " '__repr__',\n",
       " '__reversed__',\n",
       " '__setattr__',\n",
       " '__sizeof__',\n",
       " '__str__',\n",
       " '__subclasshook__',\n",
       " 'count',\n",
       " 'index',\n",
       " 'start',\n",
       " 'step',\n",
       " 'stop']"
      ]
     },
     "execution_count": 6,
     "metadata": {},
     "output_type": "execute_result"
    }
   ],
   "source": [
    "dir(range)"
   ]
  },
  {
   "cell_type": "code",
   "execution_count": 7,
   "id": "af76acb9",
   "metadata": {},
   "outputs": [],
   "source": [
    "r3 = range(3)\n",
    "?r3.__sizeof__"
   ]
  },
  {
   "cell_type": "markdown",
   "id": "08f33a1d",
   "metadata": {},
   "source": [
    "建立 range(3) 範圍物件, 再以 IPython magic command '?r3.__sizeof__' 查詢功能  __sizeof__\n",
    "\n",
    "Signature: r3.__sizeof__()  \n",
    "Docstring: Size of object in memory, in bytes.  \n",
    "Type:      builtin_function_or_method  "
   ]
  },
  {
   "cell_type": "code",
   "execution_count": 8,
   "id": "354c16e8",
   "metadata": {},
   "outputs": [
    {
     "data": {
      "text/plain": [
       "48"
      ]
     },
     "execution_count": 8,
     "metadata": {},
     "output_type": "execute_result"
    }
   ],
   "source": [
    "r3.__sizeof__()"
   ]
  },
  {
   "cell_type": "markdown",
   "id": "e31a50c2",
   "metadata": {},
   "source": [
    "不同起始範圍的範圍物件, 物件 bytes 數量相同嗎?"
   ]
  },
  {
   "cell_type": "code",
   "execution_count": 9,
   "id": "833f76f4",
   "metadata": {},
   "outputs": [
    {
     "name": "stdout",
     "output_type": "stream",
     "text": [
      "r5 48\n",
      "r3 48\n"
     ]
    }
   ],
   "source": [
    "r5 = range(5)\n",
    "print('r5', r5.__sizeof__())\n",
    "print('r3', r3.__sizeof__())"
   ]
  },
  {
   "cell_type": "code",
   "execution_count": null,
   "id": "16dbbc79",
   "metadata": {},
   "outputs": [],
   "source": []
  }
 ],
 "metadata": {
  "kernelspec": {
   "display_name": "Python 3 (ipykernel)",
   "language": "python",
   "name": "python3"
  },
  "language_info": {
   "codemirror_mode": {
    "name": "ipython",
    "version": 3
   },
   "file_extension": ".py",
   "mimetype": "text/x-python",
   "name": "python",
   "nbconvert_exporter": "python",
   "pygments_lexer": "ipython3",
   "version": "3.9.12"
  }
 },
 "nbformat": 4,
 "nbformat_minor": 5
}
